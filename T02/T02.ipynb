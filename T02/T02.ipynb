{
 "cells": [
  {
   "cell_type": "markdown",
   "metadata": {},
   "source": [
    "# Tarea 2"
   ]
  },
  {
   "cell_type": "markdown",
   "metadata": {},
   "source": [
    "### Preprocesamiento del archivo"
   ]
  },
  {
   "cell_type": "markdown",
   "metadata": {},
   "source": [
    "Usar programación funcional para limpiar el mapa.\n",
    "\n",
    "Solo debieran haber X y números, el resto es basura.\n",
    "\n",
    "Los símbolos aleatorios debieran ser X.\n",
    "\n",
    "Las letras están desplazando a los números (le quitan el espacio).\n",
    "\n",
    "Se puede guardar el mapa como una matriz (lista de adyacencia), pero después hay que transformarlo a un GRAFO"
   ]
  },
  {
   "cell_type": "code",
   "execution_count": 1,
   "metadata": {},
   "outputs": [
    {
     "name": "stdout",
     "output_type": "stream",
     "text": [
      "H,O,L,A,!,2,5+4,?,3,5,15,X,%\n",
      "F,E,L,I,P,E,W,A,S,H,E,R,E,3,7,&,5+3,4,X,4\n",
      "8,#,?,(,),32,3+4,%,12,8,X\n",
      "X,(,),$,X,X,5,X,8,&,#,(\n",
      "4,&,$,%,(,6,X,13,15,A,S,D,1\n",
      "G,O,T,T,A,G,O,F,A,S,T,2,X,4,6+10,X,X\n"
     ]
    }
   ],
   "source": [
    "file = open('mapa.txt', \"r\", encoding='UTF8', errors='replace')\n",
    "print(file.read())\n",
    "file.close()"
   ]
  },
  {
   "cell_type": "markdown",
   "metadata": {},
   "source": [
    "### Construcción del mapa"
   ]
  },
  {
   "cell_type": "markdown",
   "metadata": {},
   "source": [
    "Crear un GRAFO (POO) para contener el mapa, donde cada vértice es una celda del mapa\n"
   ]
  },
  {
   "cell_type": "code",
   "execution_count": 2,
   "metadata": {},
   "outputs": [],
   "source": [
    "class Celda:\n",
    "    pass\n",
    "class Grafo:\n",
    "    pass"
   ]
  },
  {
   "cell_type": "markdown",
   "metadata": {},
   "source": [
    "### Consultas\n",
    "\n",
    "Ruta óptima (costos)\n",
    "\n",
    "Obstáculo más cercano (BFS)\n",
    "\n",
    "Ruta más corta (menos pasos)"
   ]
  },
  {
   "cell_type": "code",
   "execution_count": 3,
   "metadata": {},
   "outputs": [],
   "source": [
    "class Celda:\n",
    "    #atributos: \n",
    "        #valor (NUM o X), se puede poner un booleano para identificar obstaculos (facilita búsqueda)\n",
    "        #conexiones (se puede mover en diagonal)\n",
    "    \n",
    "    #métodos:\n",
    "        #representar celda \n",
    "    \n",
    "    pass\n",
    "\n",
    "class Grafo:\n",
    "    #atributos:\n",
    "        #puede ser un diccionario que almacene a los lugares donde puede ir y sus costos\n",
    "    \n",
    "    #metodos:\n",
    "        #algoritmos de busqueda:\n",
    "            \n",
    "            #RUTA OPTIMA: costo mínimo. Heurísticas Manhattan, distancia Euclidiana y una inventada (A*)\n",
    "        \n",
    "            #OBSTACULO MÁS CERCANO: BFS -> para encontrar el primer obstáculo (early exit)\n",
    "            \n",
    "            #RUTA MÁS CORTA: menor cantidad de pasos\n",
    "    pass"
   ]
  },
  {
   "cell_type": "code",
   "execution_count": null,
   "metadata": {},
   "outputs": [],
   "source": []
  }
 ],
 "metadata": {
  "kernelspec": {
   "display_name": "Python 3",
   "language": "python",
   "name": "python3"
  },
  "language_info": {
   "codemirror_mode": {
    "name": "ipython",
    "version": 3
   },
   "file_extension": ".py",
   "mimetype": "text/x-python",
   "name": "python",
   "nbconvert_exporter": "python",
   "pygments_lexer": "ipython3",
   "version": "3.6.4"
  }
 },
 "nbformat": 4,
 "nbformat_minor": 2
}
